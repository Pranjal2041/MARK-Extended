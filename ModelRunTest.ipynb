{
 "cells": [
  {
   "cell_type": "code",
   "execution_count": 121,
   "metadata": {},
   "outputs": [],
   "source": [
    "import importlib\n",
    "import models\n",
    "import torch\n",
    "importlib.reload(models)\n",
    "FeatureExtractor = models.FeatureExtractor\n",
    "FeatureExtractorClassifier = models.FeatureExtractorClassifier\n",
    "KBClassifier = models.KBClassifier\n",
    "MaskGenerator = models.MaskGenerator\n",
    "KB = models.KB"
   ]
  },
  {
   "cell_type": "code",
   "execution_count": 122,
   "metadata": {},
   "outputs": [],
   "source": [
    "img = torch.randn(16,3,32,32)"
   ]
  },
  {
   "cell_type": "code",
   "execution_count": 123,
   "metadata": {},
   "outputs": [],
   "source": [
    "FE_HIDDEN = 32\n",
    "EMBED_DIM = 128\n",
    "DIMENSIONS = [64,128,256]\n",
    "NUM_CLASSES = 5\n",
    "fe = FeatureExtractor(3, FE_HIDDEN, EMBED_DIM)\n",
    "fec = FeatureExtractorClassifier(EMBED_DIM, NUM_CLASSES)"
   ]
  },
  {
   "cell_type": "code",
   "execution_count": 124,
   "metadata": {},
   "outputs": [],
   "source": [
    "mg = MaskGenerator(EMBED_DIM, DIMENSIONS)"
   ]
  },
  {
   "cell_type": "code",
   "execution_count": 125,
   "metadata": {},
   "outputs": [
    {
     "data": {
      "text/plain": [
       "(torch.Size([16, 128]), torch.Size([16, 5]))"
      ]
     },
     "execution_count": 125,
     "metadata": {},
     "output_type": "execute_result"
    }
   ],
   "source": [
    "feats = fe(img)\n",
    "logits = fec(feats)\n",
    "feats.shape, logits.shape"
   ]
  },
  {
   "cell_type": "code",
   "execution_count": 126,
   "metadata": {},
   "outputs": [
    {
     "data": {
      "text/plain": [
       "[torch.Size([16, 64]), torch.Size([16, 128]), torch.Size([16, 256])]"
      ]
     },
     "execution_count": 126,
     "metadata": {},
     "output_type": "execute_result"
    }
   ],
   "source": [
    "masks = mg(feats)\n",
    "[m.shape for m in masks]"
   ]
  },
  {
   "cell_type": "code",
   "execution_count": 127,
   "metadata": {},
   "outputs": [],
   "source": [
    "kb = KB((3,32,32), EMBED_DIM, DIMENSIONS)"
   ]
  },
  {
   "cell_type": "code",
   "execution_count": 128,
   "metadata": {},
   "outputs": [
    {
     "data": {
      "text/plain": [
       "torch.Size([16, 128])"
      ]
     },
     "execution_count": 128,
     "metadata": {},
     "output_type": "execute_result"
    }
   ],
   "source": [
    "kb_feats = kb(img, masks)\n",
    "kb_feats.shape"
   ]
  },
  {
   "cell_type": "code",
   "execution_count": 129,
   "metadata": {},
   "outputs": [],
   "source": [
    "kbc = KBClassifier(EMBED_DIM, 5)"
   ]
  },
  {
   "cell_type": "code",
   "execution_count": 130,
   "metadata": {},
   "outputs": [
    {
     "data": {
      "text/plain": [
       "torch.Size([16, 5])"
      ]
     },
     "execution_count": 130,
     "metadata": {},
     "output_type": "execute_result"
    }
   ],
   "source": [
    "logits = kbc(kb_feats)\n",
    "logits.shape"
   ]
  },
  {
   "cell_type": "code",
   "execution_count": null,
   "metadata": {},
   "outputs": [],
   "source": []
  }
 ],
 "metadata": {
  "interpreter": {
   "hash": "318f56b2e3b576cc5b4f1eea640f05660eda47842fd3e1596fbcc23ab618e823"
  },
  "kernelspec": {
   "display_name": "Python 3.9.7 ('pygpu')",
   "language": "python",
   "name": "python3"
  },
  "language_info": {
   "codemirror_mode": {
    "name": "ipython",
    "version": 3
   },
   "file_extension": ".py",
   "mimetype": "text/x-python",
   "name": "python",
   "nbconvert_exporter": "python",
   "pygments_lexer": "ipython3",
   "version": "3.9.7"
  },
  "orig_nbformat": 4
 },
 "nbformat": 4,
 "nbformat_minor": 2
}
